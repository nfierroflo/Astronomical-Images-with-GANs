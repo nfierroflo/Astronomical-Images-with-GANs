{
 "cells": [
  {
   "cell_type": "code",
   "execution_count": 2,
   "metadata": {},
   "outputs": [],
   "source": [
    "from src.Generator import Generator\n",
    "from src.Discriminator import Discriminator\n",
    "from src.utils.tools import * \n",
    "from src.data.GenLoaders import *\n",
    "from src.data.format_converter import data_converter\n",
    "from src.training.trainer import *\n",
    "import torch\n",
    "from collections import Counter\n",
    "torch.manual_seed(0); # Set for testing purposes, please do not change!"
   ]
  },
  {
   "cell_type": "code",
   "execution_count": 3,
   "metadata": {},
   "outputs": [],
   "source": [
    "save_dir = 'data/'\n",
    "data_converter(save_dir='data/', file_name=\"stamp_dataset_28.pkl\" , label_as_strings=False, binarize_labels=True)\n",
    "#dataloader=get_SNsLoader(save_dir,batch_size=32,file_name=\"td_ztf_stamp_17_06_20.pkl\",label_as_strings=False,cut_around_center=True)"
   ]
  },
  {
   "cell_type": "code",
   "execution_count": 4,
   "metadata": {},
   "outputs": [
    {
     "name": "stdout",
     "output_type": "stream",
     "text": [
      "dict_keys(['Train', 'Validation', 'Test'])\n"
     ]
    }
   ],
   "source": [
    "save_dir = 'data/'\n",
    "#Carga de datos\n",
    "with open(save_dir + \"converted_binaryTrue_stamp_dataset_28.pkl\", \"rb\") as f:\n",
    "    data = pk.load(f)\n",
    "\n",
    "\n",
    "print(data.keys())\n",
    "#Separacion de los datos\n",
    "Train_dict = data['Train']\n",
    "Validation_dict = data['Validation']\n",
    "Test_dict = data['Test']\n",
    "\n",
    "train_images = Train_dict['images']\n",
    "validation_images = Validation_dict['images']\n",
    "test_images = Test_dict['images']\n",
    "\n",
    "labels_train = Train_dict['labels']\n",
    "labels_val = Validation_dict['labels']\n",
    "labels_test = Test_dict['labels']\n"
   ]
  },
  {
   "cell_type": "code",
   "execution_count": 5,
   "metadata": {},
   "outputs": [
    {
     "name": "stdout",
     "output_type": "stream",
     "text": [
      "Counter({0.0: 49198, 1.0: 1396})\n",
      "Epoch 1/300\n"
     ]
    },
    {
     "name": "stderr",
     "output_type": "stream",
     "text": [
      "c:\\Users\\nfier\\anaconda3\\lib\\site-packages\\torch\\nn\\modules\\container.py:204: UserWarning: Implicit dimension choice for softmax has been deprecated. Change the call to include dim=X as an argument.\n",
      "  input = module(input)\n"
     ]
    },
    {
     "data": {
      "image/png": "[encoded data removed]",
      "text/plain": [
       "<Figure size 576x432 with 2 Axes>"
      ]
     },
     "metadata": {
      "needs_background": "light"
     },
     "output_type": "display_data"
    },
    {
     "name": "stdout",
     "output_type": "stream",
     "text": [
      "Val loss: 1.1070176810026169, Val acc: 0.8\n",
      "Epoch 2/300\n"
     ]
    },
    {
     "name": "stderr",
     "output_type": "stream",
     "text": [
      "c:\\Users\\nfier\\anaconda3\\lib\\site-packages\\torch\\nn\\modules\\container.py:204: UserWarning: Implicit dimension choice for softmax has been deprecated. Change the call to include dim=X as an argument.\n",
      "  input = module(input)\n"
     ]
    },
    {
     "name": "stdout",
     "output_type": "stream",
     "text": [
      "Val loss: 1.103881947696209, Val acc: 0.8\n",
      "Epoch 3/300\n",
      "Val loss: 1.1049194484949112, Val acc: 0.8\n",
      "Epoch 4/300\n",
      "Val loss: 1.1048637442290783, Val acc: 0.8\n",
      "Epoch 5/300\n"
     ]
    },
    {
     "ename": "KeyboardInterrupt",
     "evalue": "",
     "output_type": "error",
     "traceback": [
      "\u001b[1;31m---------------------------------------------------------------------------\u001b[0m",
      "\u001b[1;31mKeyboardInterrupt\u001b[0m                         Traceback (most recent call last)",
      "\u001b[1;32mc:\\Users\\nfier\\Documents\\Magister\\cursos\\EL7006 Redes Neuronales y Teoría de Información para el Aprendizaje\\proyecto\\Astronomical-Images-with-GANs\\binary_class_experiments.ipynb Cell 4\u001b[0m line \u001b[0;36m<cell line: 12>\u001b[1;34m()\u001b[0m\n\u001b[0;32m      <a href='vscode-notebook-cell:/c%3A/Users/nfier/Documents/Magister/cursos/EL7006%20Redes%20Neuronales%20y%20Teor%C3%ADa%20de%20Informaci%C3%B3n%20para%20el%20Aprendizaje/proyecto/Astronomical-Images-with-GANs/binary_class_experiments.ipynb#W0sZmlsZQ%3D%3D?line=8'>9</a>\u001b[0m \u001b[39mprint\u001b[39m(class_counts)\n\u001b[0;32m     <a href='vscode-notebook-cell:/c%3A/Users/nfier/Documents/Magister/cursos/EL7006%20Redes%20Neuronales%20y%20Teor%C3%ADa%20de%20Informaci%C3%B3n%20para%20el%20Aprendizaje/proyecto/Astronomical-Images-with-GANs/binary_class_experiments.ipynb#W0sZmlsZQ%3D%3D?line=10'>11</a>\u001b[0m \u001b[39m#Training\u001b[39;00m\n\u001b[1;32m---> <a href='vscode-notebook-cell:/c%3A/Users/nfier/Documents/Magister/cursos/EL7006%20Redes%20Neuronales%20y%20Teor%C3%ADa%20de%20Informaci%C3%B3n%20para%20el%20Aprendizaje/proyecto/Astronomical-Images-with-GANs/binary_class_experiments.ipynb#W0sZmlsZQ%3D%3D?line=11'>12</a>\u001b[0m curves\u001b[39m=\u001b[39mtrainer(train_loader,val_loader,epochs\u001b[39m=\u001b[39;49mepochs,dir_name\u001b[39m=\u001b[39;49m\u001b[39m\"\u001b[39;49m\u001b[39mbinary_28\u001b[39;49m\u001b[39m\"\u001b[39;49m)\n",
      "File \u001b[1;32mc:\\Users\\nfier\\Documents\\Magister\\cursos\\EL7006 Redes Neuronales y Teoría de Información para el Aprendizaje\\proyecto\\Astronomical-Images-with-GANs\\src\\training\\trainer.py:276\u001b[0m, in \u001b[0;36mtrainer\u001b[1;34m(train_loader, val_loader, batch_size, epochs, dir_name)\u001b[0m\n\u001b[0;32m    273\u001b[0m model \u001b[39m=\u001b[39m StampClassifier(dropout_p)\n\u001b[0;32m    275\u001b[0m \u001b[39m#Entrenamiento\u001b[39;00m\n\u001b[1;32m--> 276\u001b[0m curves \u001b[39m=\u001b[39m train_model(\n\u001b[0;32m    277\u001b[0m     model,\n\u001b[0;32m    278\u001b[0m     train_loader,\n\u001b[0;32m    279\u001b[0m     val_loader,\n\u001b[0;32m    280\u001b[0m     epochs,\n\u001b[0;32m    281\u001b[0m     criterion,\n\u001b[0;32m    282\u001b[0m     batch_size,\n\u001b[0;32m    283\u001b[0m     lr,\n\u001b[0;32m    284\u001b[0m     n_evaluations\u001b[39m=\u001b[39;49mtrain_each,\n\u001b[0;32m    285\u001b[0m     use_gpu\u001b[39m=\u001b[39;49mGPU_use,\n\u001b[0;32m    286\u001b[0m     save_models\u001b[39m=\u001b[39;49mdir_name\n\u001b[0;32m    287\u001b[0m )\n\u001b[0;32m    289\u001b[0m plt\u001b[39m.\u001b[39mplot(curves[\u001b[39m'\u001b[39m\u001b[39mtrain_acc\u001b[39m\u001b[39m'\u001b[39m], label\u001b[39m=\u001b[39m\u001b[39m'\u001b[39m\u001b[39mtrain_acc\u001b[39m\u001b[39m'\u001b[39m)\n\u001b[0;32m    290\u001b[0m plt\u001b[39m.\u001b[39mplot(curves[\u001b[39m'\u001b[39m\u001b[39mval_acc\u001b[39m\u001b[39m'\u001b[39m], label\u001b[39m=\u001b[39m\u001b[39m'\u001b[39m\u001b[39mval_acc\u001b[39m\u001b[39m'\u001b[39m)\n",
      "File \u001b[1;32mc:\\Users\\nfier\\Documents\\Magister\\cursos\\EL7006 Redes Neuronales y Teoría de Información para el Aprendizaje\\proyecto\\Astronomical-Images-with-GANs\\src\\training\\trainer.py:222\u001b[0m, in \u001b[0;36mtrain_model\u001b[1;34m(model, train_loader, val_loader, epochs, criterion, batch_size, lr, n_evaluations, use_gpu, save_models)\u001b[0m\n\u001b[0;32m    219\u001b[0m     images_batch \u001b[39m=\u001b[39m images_batch\u001b[39m.\u001b[39mcuda()\n\u001b[0;32m    220\u001b[0m     y_batch \u001b[39m=\u001b[39m y_batch\u001b[39m.\u001b[39mcuda()\n\u001b[1;32m--> 222\u001b[0m y_predicted, loss \u001b[39m=\u001b[39m train_step(images_batch, y_batch, model, optimizer, criterion)\n\u001b[0;32m    224\u001b[0m cumulative_train_loss \u001b[39m+\u001b[39m\u001b[39m=\u001b[39m loss\u001b[39m.\u001b[39mitem()\n\u001b[0;32m    225\u001b[0m train_loss_count \u001b[39m+\u001b[39m\u001b[39m=\u001b[39m \u001b[39m1\u001b[39m\n",
      "File \u001b[1;32mc:\\Users\\nfier\\Documents\\Magister\\cursos\\EL7006 Redes Neuronales y Teoría de Información para el Aprendizaje\\proyecto\\Astronomical-Images-with-GANs\\src\\training\\trainer.py:123\u001b[0m, in \u001b[0;36mtrain_step\u001b[1;34m(x_images, y_batch, model, optimizer, criterion)\u001b[0m\n\u001b[0;32m    121\u001b[0m optimizer\u001b[39m.\u001b[39mzero_grad()\n\u001b[0;32m    122\u001b[0m loss\u001b[39m.\u001b[39mbackward()\n\u001b[1;32m--> 123\u001b[0m optimizer\u001b[39m.\u001b[39;49mstep()\n\u001b[0;32m    125\u001b[0m \u001b[39mreturn\u001b[39;00m y_predicted, loss\n",
      "File \u001b[1;32mc:\\Users\\nfier\\anaconda3\\lib\\site-packages\\torch\\optim\\optimizer.py:140\u001b[0m, in \u001b[0;36mOptimizer._hook_for_profile.<locals>.profile_hook_step.<locals>.wrapper\u001b[1;34m(*args, **kwargs)\u001b[0m\n\u001b[0;32m    138\u001b[0m profile_name \u001b[39m=\u001b[39m \u001b[39m\"\u001b[39m\u001b[39mOptimizer.step#\u001b[39m\u001b[39m{}\u001b[39;00m\u001b[39m.step\u001b[39m\u001b[39m\"\u001b[39m\u001b[39m.\u001b[39mformat(obj\u001b[39m.\u001b[39m\u001b[39m__class__\u001b[39m\u001b[39m.\u001b[39m\u001b[39m__name__\u001b[39m)\n\u001b[0;32m    139\u001b[0m \u001b[39mwith\u001b[39;00m torch\u001b[39m.\u001b[39mautograd\u001b[39m.\u001b[39mprofiler\u001b[39m.\u001b[39mrecord_function(profile_name):\n\u001b[1;32m--> 140\u001b[0m     out \u001b[39m=\u001b[39m func(\u001b[39m*\u001b[39margs, \u001b[39m*\u001b[39m\u001b[39m*\u001b[39mkwargs)\n\u001b[0;32m    141\u001b[0m     obj\u001b[39m.\u001b[39m_optimizer_step_code()\n\u001b[0;32m    142\u001b[0m     \u001b[39mreturn\u001b[39;00m out\n",
      "File \u001b[1;32mc:\\Users\\nfier\\anaconda3\\lib\\site-packages\\torch\\optim\\optimizer.py:23\u001b[0m, in \u001b[0;36m_use_grad_for_differentiable.<locals>._use_grad\u001b[1;34m(self, *args, **kwargs)\u001b[0m\n\u001b[0;32m     21\u001b[0m \u001b[39mtry\u001b[39;00m:\n\u001b[0;32m     22\u001b[0m     torch\u001b[39m.\u001b[39mset_grad_enabled(\u001b[39mself\u001b[39m\u001b[39m.\u001b[39mdefaults[\u001b[39m'\u001b[39m\u001b[39mdifferentiable\u001b[39m\u001b[39m'\u001b[39m])\n\u001b[1;32m---> 23\u001b[0m     ret \u001b[39m=\u001b[39m func(\u001b[39mself\u001b[39m, \u001b[39m*\u001b[39margs, \u001b[39m*\u001b[39m\u001b[39m*\u001b[39mkwargs)\n\u001b[0;32m     24\u001b[0m \u001b[39mfinally\u001b[39;00m:\n\u001b[0;32m     25\u001b[0m     torch\u001b[39m.\u001b[39mset_grad_enabled(prev_grad)\n",
      "File \u001b[1;32mc:\\Users\\nfier\\anaconda3\\lib\\site-packages\\torch\\optim\\adam.py:234\u001b[0m, in \u001b[0;36mAdam.step\u001b[1;34m(self, closure, grad_scaler)\u001b[0m\n\u001b[0;32m    231\u001b[0m                 \u001b[39mraise\u001b[39;00m \u001b[39mRuntimeError\u001b[39;00m(\u001b[39m'\u001b[39m\u001b[39m`requires_grad` is not supported for `step` in differentiable mode\u001b[39m\u001b[39m'\u001b[39m)\n\u001b[0;32m    232\u001b[0m             state_steps\u001b[39m.\u001b[39mappend(state[\u001b[39m'\u001b[39m\u001b[39mstep\u001b[39m\u001b[39m'\u001b[39m])\n\u001b[1;32m--> 234\u001b[0m     adam(params_with_grad,\n\u001b[0;32m    235\u001b[0m          grads,\n\u001b[0;32m    236\u001b[0m          exp_avgs,\n\u001b[0;32m    237\u001b[0m          exp_avg_sqs,\n\u001b[0;32m    238\u001b[0m          max_exp_avg_sqs,\n\u001b[0;32m    239\u001b[0m          state_steps,\n\u001b[0;32m    240\u001b[0m          amsgrad\u001b[39m=\u001b[39;49mgroup[\u001b[39m'\u001b[39;49m\u001b[39mamsgrad\u001b[39;49m\u001b[39m'\u001b[39;49m],\n\u001b[0;32m    241\u001b[0m          beta1\u001b[39m=\u001b[39;49mbeta1,\n\u001b[0;32m    242\u001b[0m          beta2\u001b[39m=\u001b[39;49mbeta2,\n\u001b[0;32m    243\u001b[0m          lr\u001b[39m=\u001b[39;49mgroup[\u001b[39m'\u001b[39;49m\u001b[39mlr\u001b[39;49m\u001b[39m'\u001b[39;49m],\n\u001b[0;32m    244\u001b[0m          weight_decay\u001b[39m=\u001b[39;49mgroup[\u001b[39m'\u001b[39;49m\u001b[39mweight_decay\u001b[39;49m\u001b[39m'\u001b[39;49m],\n\u001b[0;32m    245\u001b[0m          eps\u001b[39m=\u001b[39;49mgroup[\u001b[39m'\u001b[39;49m\u001b[39meps\u001b[39;49m\u001b[39m'\u001b[39;49m],\n\u001b[0;32m    246\u001b[0m          maximize\u001b[39m=\u001b[39;49mgroup[\u001b[39m'\u001b[39;49m\u001b[39mmaximize\u001b[39;49m\u001b[39m'\u001b[39;49m],\n\u001b[0;32m    247\u001b[0m          foreach\u001b[39m=\u001b[39;49mgroup[\u001b[39m'\u001b[39;49m\u001b[39mforeach\u001b[39;49m\u001b[39m'\u001b[39;49m],\n\u001b[0;32m    248\u001b[0m          capturable\u001b[39m=\u001b[39;49mgroup[\u001b[39m'\u001b[39;49m\u001b[39mcapturable\u001b[39;49m\u001b[39m'\u001b[39;49m],\n\u001b[0;32m    249\u001b[0m          differentiable\u001b[39m=\u001b[39;49mgroup[\u001b[39m'\u001b[39;49m\u001b[39mdifferentiable\u001b[39;49m\u001b[39m'\u001b[39;49m],\n\u001b[0;32m    250\u001b[0m          fused\u001b[39m=\u001b[39;49mgroup[\u001b[39m'\u001b[39;49m\u001b[39mfused\u001b[39;49m\u001b[39m'\u001b[39;49m],\n\u001b[0;32m    251\u001b[0m          grad_scale\u001b[39m=\u001b[39;49mgrad_scale,\n\u001b[0;32m    252\u001b[0m          found_inf\u001b[39m=\u001b[39;49mfound_inf)\n\u001b[0;32m    254\u001b[0m \u001b[39mreturn\u001b[39;00m loss\n",
      "File \u001b[1;32mc:\\Users\\nfier\\anaconda3\\lib\\site-packages\\torch\\optim\\adam.py:300\u001b[0m, in \u001b[0;36madam\u001b[1;34m(params, grads, exp_avgs, exp_avg_sqs, max_exp_avg_sqs, state_steps, foreach, capturable, differentiable, fused, grad_scale, found_inf, amsgrad, beta1, beta2, lr, weight_decay, eps, maximize)\u001b[0m\n\u001b[0;32m    297\u001b[0m \u001b[39melse\u001b[39;00m:\n\u001b[0;32m    298\u001b[0m     func \u001b[39m=\u001b[39m _single_tensor_adam\n\u001b[1;32m--> 300\u001b[0m func(params,\n\u001b[0;32m    301\u001b[0m      grads,\n\u001b[0;32m    302\u001b[0m      exp_avgs,\n\u001b[0;32m    303\u001b[0m      exp_avg_sqs,\n\u001b[0;32m    304\u001b[0m      max_exp_avg_sqs,\n\u001b[0;32m    305\u001b[0m      state_steps,\n\u001b[0;32m    306\u001b[0m      amsgrad\u001b[39m=\u001b[39;49mamsgrad,\n\u001b[0;32m    307\u001b[0m      beta1\u001b[39m=\u001b[39;49mbeta1,\n\u001b[0;32m    308\u001b[0m      beta2\u001b[39m=\u001b[39;49mbeta2,\n\u001b[0;32m    309\u001b[0m      lr\u001b[39m=\u001b[39;49mlr,\n\u001b[0;32m    310\u001b[0m      weight_decay\u001b[39m=\u001b[39;49mweight_decay,\n\u001b[0;32m    311\u001b[0m      eps\u001b[39m=\u001b[39;49meps,\n\u001b[0;32m    312\u001b[0m      maximize\u001b[39m=\u001b[39;49mmaximize,\n\u001b[0;32m    313\u001b[0m      capturable\u001b[39m=\u001b[39;49mcapturable,\n\u001b[0;32m    314\u001b[0m      differentiable\u001b[39m=\u001b[39;49mdifferentiable,\n\u001b[0;32m    315\u001b[0m      grad_scale\u001b[39m=\u001b[39;49mgrad_scale,\n\u001b[0;32m    316\u001b[0m      found_inf\u001b[39m=\u001b[39;49mfound_inf)\n",
      "File \u001b[1;32mc:\\Users\\nfier\\anaconda3\\lib\\site-packages\\torch\\optim\\adam.py:363\u001b[0m, in \u001b[0;36m_single_tensor_adam\u001b[1;34m(params, grads, exp_avgs, exp_avg_sqs, max_exp_avg_sqs, state_steps, grad_scale, found_inf, amsgrad, beta1, beta2, lr, weight_decay, eps, maximize, capturable, differentiable)\u001b[0m\n\u001b[0;32m    360\u001b[0m     param \u001b[39m=\u001b[39m torch\u001b[39m.\u001b[39mview_as_real(param)\n\u001b[0;32m    362\u001b[0m \u001b[39m# Decay the first and second moment running average coefficient\u001b[39;00m\n\u001b[1;32m--> 363\u001b[0m exp_avg\u001b[39m.\u001b[39;49mmul_(beta1)\u001b[39m.\u001b[39madd_(grad, alpha\u001b[39m=\u001b[39m\u001b[39m1\u001b[39m \u001b[39m-\u001b[39m beta1)\n\u001b[0;32m    364\u001b[0m exp_avg_sq\u001b[39m.\u001b[39mmul_(beta2)\u001b[39m.\u001b[39maddcmul_(grad, grad\u001b[39m.\u001b[39mconj(), value\u001b[39m=\u001b[39m\u001b[39m1\u001b[39m \u001b[39m-\u001b[39m beta2)\n\u001b[0;32m    366\u001b[0m \u001b[39mif\u001b[39;00m capturable \u001b[39mor\u001b[39;00m differentiable:\n",
      "\u001b[1;31mKeyboardInterrupt\u001b[0m: "
     ]
    }
   ],
   "source": [
    "epochs=300\n",
    "train_loader,val_loader=get_training_loaders(batch_size=32,file_name=\"converted_binaryTrue_stamp_dataset_28.pkl\",label_as_strings=False)\n",
    "labels = train_loader.dataset.labels\n",
    "\n",
    "# Assuming labels is a list or array containing your class labels\n",
    "class_counts = Counter(labels)\n",
    "\n",
    "# class_counts will be a dictionary where keys are class labels, and values are counts\n",
    "print(class_counts)\n",
    "\n",
    "#Training\n",
    "curves=trainer(train_loader,val_loader,epochs=epochs,dir_name=\"binary_28\")"
   ]
  },
  {
   "cell_type": "code",
   "execution_count": null,
   "metadata": {},
   "outputs": [],
   "source": []
  }
 ],
 "metadata": {
  "kernelspec": {
   "display_name": "base",
   "language": "python",
   "name": "python3"
  },
  "language_info": {
   "codemirror_mode": {
    "name": "ipython",
    "version": 3
   },
   "file_extension": ".py",
   "mimetype": "text/x-python",
   "name": "python",
   "nbconvert_exporter": "python",
   "pygments_lexer": "ipython3",
   "version": "3.9.12"
  }
 },
 "nbformat": 4,
 "nbformat_minor": 2
}
