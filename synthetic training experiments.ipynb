{
 "cells": [
  {
   "cell_type": "code",
   "execution_count": 1,
   "metadata": {},
   "outputs": [],
   "source": [
    "from src.Generator import Generator\n",
    "from src.Discriminator import Discriminator\n",
    "from src.utils.tools import * \n",
    "from src.data.GenLoaders import *\n",
    "from src.training.trainer import *\n",
    "import torch\n",
    "torch.manual_seed(0); # Set for testing purposes, please do not change!"
   ]
  },
  {
   "cell_type": "markdown",
   "metadata": {},
   "source": [
    "Dataset desbalanceado"
   ]
  },
  {
   "cell_type": "code",
   "execution_count": 2,
   "metadata": {},
   "outputs": [
    {
     "data": {
      "text/plain": [
       "tensor([14542,  1396, 14523,  9599, 10534])"
      ]
     },
     "execution_count": 2,
     "metadata": {},
     "output_type": "execute_result"
    }
   ],
   "source": [
    "train_loader,val_loader=get_training_loaders(batch_size=64,file_name=\"stamp_dataset_only_images_63.pkl\",label_as_strings=True)\n",
    "labels = train_loader.dataset.labels.to(torch.int)\n",
    "torch.bincount(labels)"
   ]
  },
  {
   "cell_type": "code",
   "execution_count": 3,
   "metadata": {},
   "outputs": [
    {
     "name": "stdout",
     "output_type": "stream",
     "text": [
      "Epoch 1/1\n"
     ]
    },
    {
     "name": "stderr",
     "output_type": "stream",
     "text": [
      "c:\\Users\\nfier\\anaconda3\\lib\\site-packages\\torch\\nn\\modules\\container.py:204: UserWarning: Implicit dimension choice for softmax has been deprecated. Change the call to include dim=X as an argument.\n",
      "  input = module(input)\n"
     ]
    },
    {
     "name": "stdout",
     "output_type": "stream",
     "text": [
      "Iteration 0 - Batch 0/791 - Train loss: 1.6006454229354858, Train acc: 0.25\n",
      "Iteration 100 - Batch 100/791 - Train loss: 1.4005619901241642, Train acc: 0.5883353960396039\n",
      "Iteration 200 - Batch 200/791 - Train loss: 1.3221877914163012, Train acc: 0.6393034825870647\n",
      "Iteration 300 - Batch 300/791 - Train loss: 1.275545787573653, Train acc: 0.6723941029900332\n",
      "Iteration 400 - Batch 400/791 - Train loss: 1.241852703237177, Train acc: 0.6970854114713217\n",
      "Iteration 500 - Batch 500/791 - Train loss: 1.2198542527809828, Train acc: 0.7138535429141717\n",
      "Iteration 600 - Batch 600/791 - Train loss: 1.2032939354314185, Train acc: 0.7261855241264559\n",
      "Iteration 700 - Batch 700/791 - Train loss: 1.190691704416751, Train acc: 0.7355117689015692\n",
      "Val loss: 1.2334638983011246, Val acc: 0.666\n",
      "Tiempo total de entrenamiento: 44.5656 [s]\n"
     ]
    },
    {
     "data": {
      "image/png": "[encoded data removed]",
      "text/plain": [
       "<Figure size 432x288 with 1 Axes>"
      ]
     },
     "metadata": {
      "needs_background": "light"
     },
     "output_type": "display_data"
    }
   ],
   "source": [
    "curves=trainer(train_loader,val_loader,epochs=1)"
   ]
  },
  {
   "cell_type": "markdown",
   "metadata": {},
   "source": [
    "Generación de datos"
   ]
  },
  {
   "cell_type": "code",
   "execution_count": 4,
   "metadata": {},
   "outputs": [],
   "source": [
    "device = 'cuda'\n",
    "z_dim = 64\n",
    "num_img=1000\n",
    "\n",
    "gen_1 = Generator(z_dim).to(device)\n",
    "gen_1.load_state_dict(torch.load('dcgan'))\n",
    "gen = Generator(z_dim).to(device)\n",
    "gen.load_state_dict(torch.load('wgangp'))\n",
    "fake_noise = get_noise(num_img, z_dim, device=device)\n",
    "fake_1 = gen_1(fake_noise)\n",
    "fake= gen(fake_noise)"
   ]
  },
  {
   "cell_type": "code",
   "execution_count": 14,
   "metadata": {},
   "outputs": [
    {
     "data": {
      "text/plain": [
       "tensor([14542,  1397, 14523,  9599, 10534])"
      ]
     },
     "execution_count": 14,
     "metadata": {},
     "output_type": "execute_result"
    }
   ],
   "source": [
    "train_loader,val_loader=get_training_loaders(synthetic_SN=fake.to('cpu'),batch_size=64,file_name=\"stamp_dataset_only_images_63.pkl\",label_as_strings=True)\n",
    "torch.bincount(train_loader.dataset.labels.to(torch.int))"
   ]
  },
  {
   "cell_type": "code",
   "execution_count": 15,
   "metadata": {},
   "outputs": [
    {
     "name": "stdout",
     "output_type": "stream",
     "text": [
      "Epoch 1/2\n"
     ]
    },
    {
     "ename": "RuntimeError",
     "evalue": "Trying to backward through the graph a second time (or directly access saved tensors after they have already been freed). Saved intermediate values of the graph are freed when you call .backward() or autograd.grad(). Specify retain_graph=True if you need to backward through the graph a second time or if you need to access saved tensors after calling backward.",
     "output_type": "error",
     "traceback": [
      "\u001b[1;31m---------------------------------------------------------------------------\u001b[0m",
      "\u001b[1;31mRuntimeError\u001b[0m                              Traceback (most recent call last)",
      "\u001b[1;32mc:\\Users\\nfier\\Documents\\Magister\\cursos\\EL7006 Redes Neuronales y Teoría de Información para el Aprendizaje\\proyecto\\Astronomical-Images-with-GANs\\synthetic training experiments.ipynb Cell 8\u001b[0m line \u001b[0;36m<cell line: 1>\u001b[1;34m()\u001b[0m\n\u001b[1;32m----> <a href='vscode-notebook-cell:/c%3A/Users/nfier/Documents/Magister/cursos/EL7006%20Redes%20Neuronales%20y%20Teor%C3%ADa%20de%20Informaci%C3%B3n%20para%20el%20Aprendizaje/proyecto/Astronomical-Images-with-GANs/synthetic%20training%20experiments.ipynb#X20sZmlsZQ%3D%3D?line=0'>1</a>\u001b[0m curves\u001b[39m=\u001b[39mtrainer(train_loader,val_loader,epochs\u001b[39m=\u001b[39;49m\u001b[39m2\u001b[39;49m)\n",
      "File \u001b[1;32mc:\\Users\\nfier\\Documents\\Magister\\cursos\\EL7006 Redes Neuronales y Teoría de Información para el Aprendizaje\\proyecto\\Astronomical-Images-with-GANs\\src\\training\\trainer.py:253\u001b[0m, in \u001b[0;36mtrainer\u001b[1;34m(train_loader, val_loader, batch_size, epochs)\u001b[0m\n\u001b[0;32m    250\u001b[0m model \u001b[39m=\u001b[39m StampClassifier(dropout_p)\n\u001b[0;32m    252\u001b[0m \u001b[39m#Entrenamiento\u001b[39;00m\n\u001b[1;32m--> 253\u001b[0m curves \u001b[39m=\u001b[39m train_model(\n\u001b[0;32m    254\u001b[0m     model,\n\u001b[0;32m    255\u001b[0m     train_loader,\n\u001b[0;32m    256\u001b[0m     val_loader,\n\u001b[0;32m    257\u001b[0m     epochs,\n\u001b[0;32m    258\u001b[0m     criterion,\n\u001b[0;32m    259\u001b[0m     batch_size,\n\u001b[0;32m    260\u001b[0m     lr,\n\u001b[0;32m    261\u001b[0m     n_evaluations\u001b[39m=\u001b[39;49mtrain_each,\n\u001b[0;32m    262\u001b[0m     use_gpu\u001b[39m=\u001b[39;49mGPU_use\n\u001b[0;32m    263\u001b[0m )\n\u001b[0;32m    265\u001b[0m plt\u001b[39m.\u001b[39mplot(curves[\u001b[39m'\u001b[39m\u001b[39mtrain_acc\u001b[39m\u001b[39m'\u001b[39m], label\u001b[39m=\u001b[39m\u001b[39m'\u001b[39m\u001b[39mtrain_acc\u001b[39m\u001b[39m'\u001b[39m)\n\u001b[0;32m    266\u001b[0m plt\u001b[39m.\u001b[39mplot(curves[\u001b[39m'\u001b[39m\u001b[39mval_acc\u001b[39m\u001b[39m'\u001b[39m], label\u001b[39m=\u001b[39m\u001b[39m'\u001b[39m\u001b[39mval_acc\u001b[39m\u001b[39m'\u001b[39m)\n",
      "File \u001b[1;32mc:\\Users\\nfier\\Documents\\Magister\\cursos\\EL7006 Redes Neuronales y Teoría de Información para el Aprendizaje\\proyecto\\Astronomical-Images-with-GANs\\src\\training\\trainer.py:207\u001b[0m, in \u001b[0;36mtrain_model\u001b[1;34m(model, train_loader, val_loader, epochs, criterion, batch_size, lr, n_evaluations, use_gpu)\u001b[0m\n\u001b[0;32m    204\u001b[0m     images_batch \u001b[39m=\u001b[39m images_batch\u001b[39m.\u001b[39mcuda()\n\u001b[0;32m    205\u001b[0m     y_batch \u001b[39m=\u001b[39m y_batch\u001b[39m.\u001b[39mcuda()\n\u001b[1;32m--> 207\u001b[0m y_predicted, loss \u001b[39m=\u001b[39m train_step(images_batch, y_batch, model, optimizer, criterion)\n\u001b[0;32m    209\u001b[0m cumulative_train_loss \u001b[39m+\u001b[39m\u001b[39m=\u001b[39m loss\u001b[39m.\u001b[39mitem()\n\u001b[0;32m    210\u001b[0m train_loss_count \u001b[39m+\u001b[39m\u001b[39m=\u001b[39m \u001b[39m1\u001b[39m\n",
      "File \u001b[1;32mc:\\Users\\nfier\\Documents\\Magister\\cursos\\EL7006 Redes Neuronales y Teoría de Información para el Aprendizaje\\proyecto\\Astronomical-Images-with-GANs\\src\\training\\trainer.py:128\u001b[0m, in \u001b[0;36mtrain_step\u001b[1;34m(x_images, y_batch, model, optimizer, criterion)\u001b[0m\n\u001b[0;32m    126\u001b[0m \u001b[39m# Actualización de parámetros\u001b[39;00m\n\u001b[0;32m    127\u001b[0m optimizer\u001b[39m.\u001b[39mzero_grad()\n\u001b[1;32m--> 128\u001b[0m loss\u001b[39m.\u001b[39;49mbackward()\n\u001b[0;32m    129\u001b[0m optimizer\u001b[39m.\u001b[39mstep()\n\u001b[0;32m    131\u001b[0m \u001b[39mreturn\u001b[39;00m y_predicted, loss\n",
      "File \u001b[1;32mc:\\Users\\nfier\\anaconda3\\lib\\site-packages\\torch\\_tensor.py:487\u001b[0m, in \u001b[0;36mTensor.backward\u001b[1;34m(self, gradient, retain_graph, create_graph, inputs)\u001b[0m\n\u001b[0;32m    477\u001b[0m \u001b[39mif\u001b[39;00m has_torch_function_unary(\u001b[39mself\u001b[39m):\n\u001b[0;32m    478\u001b[0m     \u001b[39mreturn\u001b[39;00m handle_torch_function(\n\u001b[0;32m    479\u001b[0m         Tensor\u001b[39m.\u001b[39mbackward,\n\u001b[0;32m    480\u001b[0m         (\u001b[39mself\u001b[39m,),\n\u001b[1;32m   (...)\u001b[0m\n\u001b[0;32m    485\u001b[0m         inputs\u001b[39m=\u001b[39minputs,\n\u001b[0;32m    486\u001b[0m     )\n\u001b[1;32m--> 487\u001b[0m torch\u001b[39m.\u001b[39;49mautograd\u001b[39m.\u001b[39;49mbackward(\n\u001b[0;32m    488\u001b[0m     \u001b[39mself\u001b[39;49m, gradient, retain_graph, create_graph, inputs\u001b[39m=\u001b[39;49minputs\n\u001b[0;32m    489\u001b[0m )\n",
      "File \u001b[1;32mc:\\Users\\nfier\\anaconda3\\lib\\site-packages\\torch\\autograd\\__init__.py:197\u001b[0m, in \u001b[0;36mbackward\u001b[1;34m(tensors, grad_tensors, retain_graph, create_graph, grad_variables, inputs)\u001b[0m\n\u001b[0;32m    192\u001b[0m     retain_graph \u001b[39m=\u001b[39m create_graph\n\u001b[0;32m    194\u001b[0m \u001b[39m# The reason we repeat same the comment below is that\u001b[39;00m\n\u001b[0;32m    195\u001b[0m \u001b[39m# some Python versions print out the first line of a multi-line function\u001b[39;00m\n\u001b[0;32m    196\u001b[0m \u001b[39m# calls in the traceback and some print out the last line\u001b[39;00m\n\u001b[1;32m--> 197\u001b[0m Variable\u001b[39m.\u001b[39;49m_execution_engine\u001b[39m.\u001b[39;49mrun_backward(  \u001b[39m# Calls into the C++ engine to run the backward pass\u001b[39;49;00m\n\u001b[0;32m    198\u001b[0m     tensors, grad_tensors_, retain_graph, create_graph, inputs,\n\u001b[0;32m    199\u001b[0m     allow_unreachable\u001b[39m=\u001b[39;49m\u001b[39mTrue\u001b[39;49;00m, accumulate_grad\u001b[39m=\u001b[39;49m\u001b[39mTrue\u001b[39;49;00m)\n",
      "\u001b[1;31mRuntimeError\u001b[0m: Trying to backward through the graph a second time (or directly access saved tensors after they have already been freed). Saved intermediate values of the graph are freed when you call .backward() or autograd.grad(). Specify retain_graph=True if you need to backward through the graph a second time or if you need to access saved tensors after calling backward."
     ]
    }
   ],
   "source": [
    "curves=trainer(train_loader,val_loader,epochs=2)"
   ]
  },
  {
   "cell_type": "code",
   "execution_count": null,
   "metadata": {},
   "outputs": [],
   "source": []
  }
 ],
 "metadata": {
  "kernelspec": {
   "display_name": "gans",
   "language": "python",
   "name": "python3"
  },
  "language_info": {
   "codemirror_mode": {
    "name": "ipython",
    "version": 3
   },
   "file_extension": ".py",
   "mimetype": "text/x-python",
   "name": "python",
   "nbconvert_exporter": "python",
   "pygments_lexer": "ipython3",
   "version": "3.9.12"
  },
  "orig_nbformat": 4
 },
 "nbformat": 4,
 "nbformat_minor": 2
}
