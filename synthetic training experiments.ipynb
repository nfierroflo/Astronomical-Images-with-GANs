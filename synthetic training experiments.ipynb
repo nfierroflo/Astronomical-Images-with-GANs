{
 "cells": [
  {
   "cell_type": "code",
   "execution_count": 1,
   "metadata": {},
   "outputs": [],
   "source": [
    "from src.Generator import Generator\n",
    "from src.Discriminator import Discriminator\n",
    "from src.utils.tools import * \n",
    "from src.data.GenLoaders import *\n",
    "from src.utils.training.trainer import *\n",
    "import torch\n",
    "torch.manual_seed(0); # Set for testing purposes, please do not change!"
   ]
  },
  {
   "cell_type": "markdown",
   "metadata": {},
   "source": [
    "Dataset desbalanceado"
   ]
  },
  {
   "cell_type": "code",
   "execution_count": 21,
   "metadata": {},
   "outputs": [
    {
     "data": {
      "text/plain": [
       "tensor([14542,  1396, 14523,  9599, 10534])"
      ]
     },
     "execution_count": 21,
     "metadata": {},
     "output_type": "execute_result"
    }
   ],
   "source": [
    "train_loader,val_loader=get_training_loaders(batch_size=32,file_name=\"stamp_dataset_only_images_63.pkl\",label_as_strings=True)\n",
    "labels = train_loader.dataset.labels.to(torch.int)\n",
    "torch.bincount(labels)\n",
    "curves=trainer(train_loader,val_loader)"
   ]
  },
  {
   "cell_type": "markdown",
   "metadata": {},
   "source": []
  },
  {
   "cell_type": "markdown",
   "metadata": {},
   "source": [
    "Generación de datos"
   ]
  },
  {
   "cell_type": "code",
   "execution_count": 16,
   "metadata": {},
   "outputs": [],
   "source": [
    "device = 'cuda'\n",
    "z_dim = 64\n",
    "num_img=10000\n",
    "\n",
    "gen_1 = Generator(z_dim).to(device)\n",
    "gen_1.load_state_dict(torch.load('dcgan'))\n",
    "gen = Generator(z_dim).to(device)\n",
    "gen.load_state_dict(torch.load('wgangp'))\n",
    "fake_noise = get_noise(num_img, z_dim, device=device)\n",
    "fake_1 = gen_1(fake_noise)\n",
    "fake= gen(fake_noise)"
   ]
  },
  {
   "cell_type": "code",
   "execution_count": 17,
   "metadata": {},
   "outputs": [
    {
     "data": {
      "text/plain": [
       "torch.Size([10000, 3, 28, 28])"
      ]
     },
     "execution_count": 17,
     "metadata": {},
     "output_type": "execute_result"
    }
   ],
   "source": [
    "fake.shape"
   ]
  },
  {
   "cell_type": "code",
   "execution_count": 18,
   "metadata": {},
   "outputs": [],
   "source": [
    "save_dir = 'data/'\n",
    "dataloader=get_SNsLoader(save_dir,batch_size=32,file_name=\"stamp_dataset_21_new.pkl\")"
   ]
  },
  {
   "cell_type": "code",
   "execution_count": 19,
   "metadata": {},
   "outputs": [],
   "source": [
    "train_loader,val_loader=get_training_loaders(synthetic_SN=fake.to('cpu'),batch_size=32,file_name=\"stamp_dataset_only_images_63.pkl\",label_as_strings=True)"
   ]
  },
  {
   "cell_type": "code",
   "execution_count": 20,
   "metadata": {},
   "outputs": [
    {
     "data": {
      "text/plain": [
       "tensor([14542, 11396, 14523,  9599, 10534])"
      ]
     },
     "execution_count": 20,
     "metadata": {},
     "output_type": "execute_result"
    }
   ],
   "source": [
    "labels = train_loader.dataset.labels.to(torch.int)\n",
    "torch.bincount(labels)"
   ]
  },
  {
   "cell_type": "code",
   "execution_count": null,
   "metadata": {},
   "outputs": [],
   "source": []
  }
 ],
 "metadata": {
  "kernelspec": {
   "display_name": "gans",
   "language": "python",
   "name": "python3"
  },
  "language_info": {
   "codemirror_mode": {
    "name": "ipython",
    "version": 3
   },
   "file_extension": ".py",
   "mimetype": "text/x-python",
   "name": "python",
   "nbconvert_exporter": "python",
   "pygments_lexer": "ipython3",
   "version": "3.9.12"
  },
  "orig_nbformat": 4
 },
 "nbformat": 4,
 "nbformat_minor": 2
}
